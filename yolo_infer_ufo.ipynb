{
  "nbformat": 4,
  "nbformat_minor": 0,
  "metadata": {
    "colab": {
      "provenance": []
    },
    "kernelspec": {
      "name": "python3",
      "display_name": "Python 3"
    },
    "language_info": {
      "name": "python"
    }
  },
  "cells": [
    {
      "cell_type": "code",
      "execution_count": null,
      "metadata": {
        "id": "Zci0IBkhvihZ"
      },
      "outputs": [],
      "source": [
        "!pip install ultralytics\n",
        "!pip install -U ipywidgets"
      ]
    },
    {
      "cell_type": "code",
      "source": [
        "from ultralytics import YOLO\n",
        "import os\n",
        "\n",
        "model = YOLO(\"best.pt\") # 학습이 완료된 YOLO 모델 가중치의 위치"
      ],
      "metadata": {
        "id": "uPwLVy3svj5Q"
      },
      "execution_count": null,
      "outputs": []
    },
    {
      "cell_type": "code",
      "source": [
        "ufo = {'images':{}} # ufo 생성\n",
        "root = '/eval_dataset/' # inference 데이터셋 폴더의 위치\n",
        "\n",
        "for image in os.listdir(root) :\n",
        "    word = {}\n",
        "    img_path = os.path.join(root,image)\n",
        "    result = model(img_path, conf=0.5)\n",
        "\n",
        "    for idx,xyxy in enumerate(result[0].boxes.xyxy) :\n",
        "        x_min, y_min, x_max, y_max = xyxy.tolist()\n",
        "        rect = [[x_min, y_min], [x_max, y_min], [x_max, y_max], [x_min, y_max]]\n",
        "        word[str(idx)] = {'points':rect}\n",
        "    ufo['images'][image] = {}\n",
        "    ufo['images'][image]['words'] = word"
      ],
      "metadata": {
        "id": "-TlaKgOFvlY8"
      },
      "execution_count": null,
      "outputs": []
    },
    {
      "cell_type": "code",
      "source": [
        "# ufo 저장\n",
        "import json\n",
        "with open(\"yolo_output.json\", \"w\") as json_file:\n",
        "    json.dump(ufo, json_file,indent=4)"
      ],
      "metadata": {
        "id": "hnJchk18vlWp"
      },
      "execution_count": null,
      "outputs": []
    }
  ]
}