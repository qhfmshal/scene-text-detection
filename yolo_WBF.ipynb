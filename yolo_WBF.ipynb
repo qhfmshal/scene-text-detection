{
  "cells": [
    {
      "cell_type": "code",
      "execution_count": null,
      "metadata": {
        "id": "wKUyFdHJeN4P"
      },
      "outputs": [],
      "source": [
        "# !pip install ultralytics ensemble-boxes"
      ]
    },
    {
      "cell_type": "code",
      "source": [
        "from ultralytics import YOLO\n",
        "from ensemble_boxes import weighted_boxes_fusion\n",
        "import cv2\n",
        "import matplotlib.pyplot as plt\n",
        "import os\n",
        "from glob import glob"
      ],
      "metadata": {
        "id": "4c2xx7o_9hFx"
      },
      "execution_count": null,
      "outputs": []
    },
    {
      "cell_type": "code",
      "source": [
        "weights_path = '가중치들이 저장된 폴더 경로'\n",
        "models = [YOLO(pt) for pt in glob(os.path.join(weights_path,'*'))]"
      ],
      "metadata": {
        "id": "6T_DGCyD9icV"
      },
      "execution_count": null,
      "outputs": []
    },
    {
      "cell_type": "code",
      "source": [
        "# YOLO output을 WBF에 맞게 변환 하는 함수\n",
        "def boxes_and_scores(results):\n",
        "    boxes = []\n",
        "    scores = []\n",
        "    labels = []\n",
        "    for r in results[0].boxes.data.tolist():\n",
        "        x1, y1, x2, y2, confidence, class_id = r\n",
        "        boxes.append([x1 / image.shape[1], y1 / image.shape[0], x2 / image.shape[1], y2 / image.shape[0]])\n",
        "        scores.append(confidence)\n",
        "        labels.append(int(class_id))\n",
        "    return boxes, scores, labels\n"
      ],
      "metadata": {
        "id": "CqvGs6lt-pay"
      },
      "execution_count": null,
      "outputs": []
    },
    {
      "cell_type": "code",
      "source": [
        "root = '추론 데이터 경로'\n",
        "ufo = {'images':{}}\n",
        "\n",
        "for img in os.listdir(root) :\n",
        "    word = {}\n",
        "    image_path = os.path.join(root,img)\n",
        "    image = cv2.imread(image_path)\n",
        "\n",
        "    # YOLO 모델로 예측 수행\n",
        "    results = [model(image) for model in models]\n",
        "\n",
        "    boxes_list, scores_list, labels_list = [], [], []\n",
        "\n",
        "    for result in results :\n",
        "        boxes, scores, labels = boxes_and_scores(result)\n",
        "        boxes_list.append(boxes)\n",
        "        scores_list.append(scores)\n",
        "        labels_list.append(labels)\n",
        "\n",
        "    iou_thr = 0.5  # IoU threshold\n",
        "    skip_box_thr = 0.5  # Confidence threshold\n",
        "    weights = [1, 1, 1]  # 모델들의 가중치\n",
        "\n",
        "    fused_boxes, fused_scores, fused_labels = weighted_boxes_fusion(\n",
        "        boxes_list, scores_list, labels_list, iou_thr=iou_thr, skip_box_thr=skip_box_thr, weights=weights\n",
        "    )\n",
        "\n",
        "    fused_boxes_abs = [\n",
        "        [box[0] * image.shape[1], box[1] * image.shape[0], box[2] * image.shape[1], box[3] * image.shape[0]]\n",
        "        for box in fused_boxes\n",
        "    ]\n",
        "\n",
        "    for idx,xyxy in enumerate(fused_boxes_abs) :\n",
        "        x_min, y_min, x_max, y_max = xyxy\n",
        "        rect = [[x_min, y_min], [x_max, y_min], [x_max, y_max], [x_min, y_max]]\n",
        "        word[str(idx)] = {'points':rect}\n",
        "\n",
        "    ufo['images'][img] = {}\n",
        "    ufo['images'][img]['words'] = word"
      ],
      "metadata": {
        "id": "DJShhIqC_B8p"
      },
      "execution_count": null,
      "outputs": []
    },
    {
      "cell_type": "code",
      "source": [
        "import json\n",
        "with open(\"yolo_output.json\", \"w\") as json_file:\n",
        "    json.dump(ufo, json_file,indent=4)"
      ],
      "metadata": {
        "id": "xzAysiqN_Eeb"
      },
      "execution_count": null,
      "outputs": []
    }
  ],
  "metadata": {
    "accelerator": "GPU",
    "colab": {
      "gpuType": "T4",
      "provenance": []
    },
    "kernelspec": {
      "display_name": "Python 3",
      "name": "python3"
    },
    "language_info": {
      "name": "python"
    }
  },
  "nbformat": 4,
  "nbformat_minor": 0
}
