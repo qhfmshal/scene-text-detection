{
  "nbformat": 4,
  "nbformat_minor": 0,
  "metadata": {
    "colab": {
      "provenance": [],
      "machine_shape": "hm",
      "gpuType": "L4"
    },
    "kernelspec": {
      "name": "python3",
      "display_name": "Python 3"
    },
    "language_info": {
      "name": "python"
    },
    "accelerator": "GPU"
  },
  "cells": [
    {
      "cell_type": "code",
      "source": [
        "from google.colab import drive\n",
        "drive.mount('/content/drive')"
      ],
      "metadata": {
        "id": "K_eO9ZsHXHDk",
        "colab": {
          "base_uri": "https://localhost:8080/"
        },
        "outputId": "57529484-a482-49c5-8c38-304945ca0e95"
      },
      "execution_count": null,
      "outputs": [
        {
          "output_type": "stream",
          "name": "stdout",
          "text": [
            "Mounted at /content/drive\n"
          ]
        }
      ]
    },
    {
      "cell_type": "code",
      "source": [
        "!pip install ultralytics\n",
        "!pip install -U ipywidgets"
      ],
      "metadata": {
        "collapsed": true,
        "id": "q1zkrXtaen23"
      },
      "execution_count": null,
      "outputs": []
    },
    {
      "cell_type": "code",
      "source": [
        "from ultralytics import YOLO\n",
        "import os\n",
        "from IPython.display import Image\n",
        "\n",
        "model = YOLO(\"/content/drive/MyDrive/upstage/YOLO_best_mixup.pt\")"
      ],
      "metadata": {
        "id": "mfMo_12yez5V"
      },
      "execution_count": null,
      "outputs": []
    },
    {
      "cell_type": "code",
      "source": [
        "ufo = {'images':{}}\n",
        "root = '/content/drive/MyDrive/upstage/ocr_preserve/ocr/code/eval_dataset/data'\n",
        "for image in os.listdir(root) :\n",
        "    word = {}\n",
        "    img_path = os.path.join(root,image)\n",
        "    result = model(img_path, conf=0.5)\n",
        "\n",
        "    for idx,xyxy in enumerate(result[0].boxes.xyxy) :\n",
        "        x_min, y_min, x_max, y_max = xyxy.tolist()\n",
        "        rect = [[x_min, y_min], [x_max, y_min], [x_max, y_max], [x_min, y_max]]\n",
        "        word[str(idx)] = {'points':rect}\n",
        "    ufo['images'][image] = {}\n",
        "    ufo['images'][image]['words'] = word"
      ],
      "metadata": {
        "collapsed": true,
        "id": "KYozG__8fgdq"
      },
      "execution_count": null,
      "outputs": []
    },
    {
      "cell_type": "code",
      "source": [
        "import json\n",
        "with open(\"yolo_output.json\", \"w\") as json_file:\n",
        "    json.dump(ufo, json_file,indent=4)"
      ],
      "metadata": {
        "id": "azSNBwoHgP9a"
      },
      "execution_count": null,
      "outputs": []
    },
      "execution_count": null,
      "outputs": []
    }
  ]
}
